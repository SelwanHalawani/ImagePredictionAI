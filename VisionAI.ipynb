{
  "nbformat": 4,
  "nbformat_minor": 0,
  "metadata": {
    "colab": {
      "provenance": []
    },
    "kernelspec": {
      "name": "python3",
      "display_name": "Python 3"
    },
    "language_info": {
      "name": "python"
    }
  },
  "cells": [
    {
      "cell_type": "markdown",
      "source": [
        "\n",
        "\n",
        "---\n",
        "\n",
        "\n",
        "# Import Libraries\n",
        "\n",
        "\n",
        "---\n",
        "\n"
      ],
      "metadata": {
        "id": "YxeLxvRalTl9"
      }
    },
    {
      "cell_type": "code",
      "source": [
        "from PIL import Image\n",
        "import numpy as np\n",
        "import tensorflow as tf"
      ],
      "metadata": {
        "id": "GfTX1vSolTWB"
      },
      "execution_count": 53,
      "outputs": []
    },
    {
      "cell_type": "markdown",
      "source": [
        "\n",
        "\n",
        "---\n",
        "\n",
        "\n",
        "# Load and Preprocess Image\n",
        "\n",
        "\n",
        "---\n",
        "\n"
      ],
      "metadata": {
        "id": "icT1vL--leER"
      }
    },
    {
      "cell_type": "code",
      "source": [
        "# Load the image\n",
        "image_path = '/content/Sunflower.jpg'\n",
        "img = Image.open(image_path).resize((224, 224))  # Ensure the correct dimensions, like 224x224\n",
        "\n",
        "# Convert the image to a numpy array and normalize it\n",
        "img_array = np.array(img) / 255.0  # Normalize the image\n",
        "img_array = np.expand_dims(img_array, axis=0)  # Add batch dimension\n",
        "\n",
        "# Convert the numpy array to a Tensor\n",
        "input_tensor = tf.convert_to_tensor(img_array, dtype=tf.float32)"
      ],
      "metadata": {
        "id": "ORGvldYKld4D"
      },
      "execution_count": 54,
      "outputs": []
    },
    {
      "cell_type": "markdown",
      "source": [
        "\n",
        "\n",
        "---\n",
        "\n",
        "\n",
        "# Load The Saved Model\n",
        "\n",
        "\n",
        "---\n",
        "\n"
      ],
      "metadata": {
        "id": "ytdyk_hllpEK"
      }
    },
    {
      "cell_type": "code",
      "source": [
        "# Load the saved model\n",
        "model_dir = '/content/saved_model/model.savedmodel'\n",
        "model = tf.saved_model.load(model_dir)\n",
        "\n",
        "print(\"Model loaded successfully!\")"
      ],
      "metadata": {
        "colab": {
          "base_uri": "https://localhost:8080/"
        },
        "id": "MVCoWR0Olo58",
        "outputId": "891e0d96-4927-4b3d-9955-8c596f7087ef"
      },
      "execution_count": 55,
      "outputs": [
        {
          "output_type": "stream",
          "name": "stdout",
          "text": [
            "Model loaded successfully!\n"
          ]
        }
      ]
    },
    {
      "cell_type": "markdown",
      "source": [
        "\n",
        "\n",
        "---\n",
        "\n",
        "# Make Prediction\n",
        "\n",
        "\n",
        "---\n",
        "\n"
      ],
      "metadata": {
        "id": "GqrSU62xl83S"
      }
    },
    {
      "cell_type": "code",
      "source": [
        "# Perform inference\n",
        "infer = model.signatures[\"serving_default\"]\n",
        "\n",
        "# Make the prediction\n",
        "output = infer(input_tensor)"
      ],
      "metadata": {
        "id": "dPWD_6Rwl8qS"
      },
      "execution_count": 56,
      "outputs": []
    },
    {
      "cell_type": "markdown",
      "source": [
        "\n",
        "\n",
        "---\n",
        "\n",
        "# Extract Predictions\n",
        "\n",
        "\n",
        "---\n",
        "\n"
      ],
      "metadata": {
        "id": "wpkCUEvcmIKg"
      }
    },
    {
      "cell_type": "code",
      "source": [
        "# Print available keys in the output to understand the structure\n",
        "print(output.keys())\n",
        "\n",
        "# Extract the predictions\n",
        "predictions = output['sequential_3'].numpy()\n",
        "predicted_class = np.argmax(predictions[0])\n",
        "confidence = predictions[0][predicted_class]\n",
        "\n",
        "print(f\"Predicted class: {predicted_class}, Confidence: {confidence:.2f}\")"
      ],
      "metadata": {
        "colab": {
          "base_uri": "https://localhost:8080/"
        },
        "id": "I00ZqS36mH3X",
        "outputId": "0cdb98b5-9009-4b94-fc7c-2287c0a0a2c0"
      },
      "execution_count": 57,
      "outputs": [
        {
          "output_type": "stream",
          "name": "stdout",
          "text": [
            "dict_keys(['sequential_3'])\n",
            "Predicted class: 1, Confidence: 0.97\n"
          ]
        }
      ]
    },
    {
      "cell_type": "markdown",
      "source": [
        "\n",
        "\n",
        "---\n",
        "\n",
        "# Load Class Labels and Print Predited Label\n",
        "\n",
        "\n",
        "---\n",
        "\n"
      ],
      "metadata": {
        "id": "ZwuMLYP8mbin"
      }
    },
    {
      "cell_type": "code",
      "source": [
        "# Load class names from labels.txt\n",
        "with open('/content/saved_model/labels.txt', 'r') as f:\n",
        "    labels = [line.strip() for line in f.readlines()]\n",
        "\n",
        "# Get the predicted class label\n",
        "predicted_label = labels[predicted_class]\n",
        "print(f\"Predicted Label: {predicted_label}, Confidence: {confidence:.2f}\")"
      ],
      "metadata": {
        "colab": {
          "base_uri": "https://localhost:8080/"
        },
        "id": "iD59IcPCkxZg",
        "outputId": "ba7bf56a-00ae-4262-e79c-7f127ef7dcb8"
      },
      "execution_count": 58,
      "outputs": [
        {
          "output_type": "stream",
          "name": "stdout",
          "text": [
            "Predicted Label: 1 Sunflower, Confidence: 0.97\n"
          ]
        }
      ]
    }
  ]
}